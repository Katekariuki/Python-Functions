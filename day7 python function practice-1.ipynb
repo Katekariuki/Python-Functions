{
 "cells": [
  {
   "cell_type": "markdown",
   "metadata": {},
   "source": [
    "Exercises: Level 1\n",
    "1. Declare a function add_two_numbers. It takes two parameters and it returns a sum.\n",
    "2. Area of a circle is calculated as follows: area = π x r x r. Write a function that calculates area_of_circle.\n",
    "3. Write a function called add_all_nums which takes arbitrary number of arguments and sums all the arguments. Check if all the list items are number types. If not do give  a reasonable feedback.\n",
    "4. Temperature in °C can be converted to °F using this formula: °F = (°C x 9/5) + 32. Write a function which converts °C to °F, convert_celsius_to-fahrenheit.\n",
    "5. Write a function called check-season, it takes a month parameter and returns the season: Autumn, Winter, Spring or Summer.\n",
    "6. Write a function called calculate_slope which return the slope of a linear equation\n",
    "7. Quadratic equation is calculated as follows: ax² + bx + c = 0. Write a function which calculates solution set of a quadratic equation, solve_quadratic_eqn.\n",
    "8. Declare a function named print_list. It takes a list as a parameter and it prints out each element of the list.\n"
   ]
  },
  {
   "cell_type": "code",
   "execution_count": 16,
   "metadata": {},
   "outputs": [
    {
     "data": {
      "text/plain": [
       "8"
      ]
     },
     "execution_count": 16,
     "metadata": {},
     "output_type": "execute_result"
    }
   ],
   "source": [
    "#Question 1 declare a function that adds 2 numbers\n",
    "def add_two_numbers(a,b):\n",
    "    return(a + b)\n",
    "add_two_numbers(3,5)"
   ]
  },
  {
   "cell_type": "code",
   "execution_count": 17,
   "metadata": {},
   "outputs": [
    {
     "name": "stdout",
     "output_type": "stream",
     "text": [
      "this is my result: 50\n"
     ]
    }
   ],
   "source": [
    "#question 1 using input and F\" string\n",
    "value1=int(input(\"Enter value\"))\n",
    "value2=int(input(\"Enter value\"))\n",
    "def add_two_numbers():\n",
    "    return(value1+value2)\n",
    "#calling the function\n",
    "my_result=(f\"this is my result: {add_two_numbers()}\")\n",
    "print(my_result)"
   ]
  },
  {
   "cell_type": "code",
   "execution_count": 26,
   "metadata": {},
   "outputs": [
    {
     "data": {
      "text/plain": [
       "50.272"
      ]
     },
     "execution_count": 26,
     "metadata": {},
     "output_type": "execute_result"
    }
   ],
   "source": [
    "#Question 2 calculating the area of a circle πxr**2\n",
    "π=3.142\n",
    "r=int(input(\"Enter number\"))\n",
    "def area_of_circle():\n",
    "    return(π*r**2)\n",
    "#calling the function\n",
    "area_of_my_circle=area_of_circle()\n",
    "area_of_my_circle\n",
    "    \n"
   ]
  },
  {
   "cell_type": "code",
   "execution_count": 15,
   "metadata": {},
   "outputs": [
    {
     "data": {
      "text/plain": [
       "int"
      ]
     },
     "execution_count": 15,
     "metadata": {},
     "output_type": "execute_result"
    }
   ],
   "source": [
    "#Question 3 function that takes arbitrary number of arguements and sums them all\n",
    "def add_all_num(*args):\n",
    "    return sum(args)\n",
    "#calling\n",
    "my_sum=add_all_num(2,3,6,5)\n",
    "my_sum\n",
    "type(my_sum)"
   ]
  },
  {
   "cell_type": "code",
   "execution_count": 18,
   "metadata": {},
   "outputs": [
    {
     "data": {
      "text/plain": [
       "dict"
      ]
     },
     "execution_count": 18,
     "metadata": {},
     "output_type": "execute_result"
    }
   ],
   "source": [
    "#Question 3 spin off - use of kwargs\n",
    "def add_all_num(**kwargs):\n",
    "    return (kwargs)\n",
    "number=add_all_num(name ='Kelvin', age=77, name1='Kate' ,age1=44)\n",
    "number\n",
    "type(number)"
   ]
  },
  {
   "cell_type": "code",
   "execution_count": 19,
   "metadata": {},
   "outputs": [
    {
     "name": "stdout",
     "output_type": "stream",
     "text": [
      "41.0\n"
     ]
    }
   ],
   "source": [
    "#Question 4 write a function that converts °C to °F using the formula: °F = (°C x 9/5) + 32\n",
    "deg_C=5\n",
    "def converted_deg():\n",
    "    return (deg_C * 9/5) + 32\n",
    "\n",
    "temperature=converted_deg()\n",
    "print(temperature)\n"
   ]
  },
  {
   "cell_type": "code",
   "execution_count": 20,
   "metadata": {},
   "outputs": [
    {
     "name": "stdout",
     "output_type": "stream",
     "text": [
      "The month of Jan is in winter season\n"
     ]
    }
   ],
   "source": [
    "#Question 5 Write a function called check_season that takes months parameters and returns seasons\n",
    "month=input(\"enter name\").strip().capitalize()\n",
    "winter=['Dec','Jan','Feb']\n",
    "spring=['Mar','Apr','May']\n",
    "summer=['Jun','Jul','Aug']\n",
    "fall=['Sep','Oct','Nov']\n",
    "def check_season():\n",
    "    if month in winter:\n",
    "        return(\"winter\")\n",
    "    elif month in spring:\n",
    "        return(\"spring\")\n",
    "    elif month in summer :\n",
    "        return(\"summer\")\n",
    "    else:\n",
    "        \"fall\"\n",
    "\n",
    "check_season=check_season()\n",
    "print(f\"The month of {month} is in {check_season} season\")\n",
    "   "
   ]
  },
  {
   "cell_type": "code",
   "execution_count": 7,
   "metadata": {},
   "outputs": [
    {
     "data": {
      "text/plain": [
       "'The slope is 2.5'"
      ]
     },
     "execution_count": 7,
     "metadata": {},
     "output_type": "execute_result"
    }
   ],
   "source": [
    "#function called calculate_slope which return the slope of a linear equation\n",
    "#Linear equation=> y=mx+c\n",
    "#m is the slope so m=(y-c)/x\n",
    "def calculate_slope():\n",
    "    y=int(input(\"enter value\"))\n",
    "    c=int(input(\"enter value\"))\n",
    "    x=int(input(\"enter value\"))\n",
    "    return (y-c)/x\n",
    "f\"The slope is {calculate_slope()}\""
   ]
  },
  {
   "cell_type": "code",
   "execution_count": 23,
   "metadata": {},
   "outputs": [
    {
     "data": {
      "text/plain": [
       "['car', 'bus', 'nissan', 'lorry', 'van']"
      ]
     },
     "execution_count": 23,
     "metadata": {},
     "output_type": "execute_result"
    }
   ],
   "source": [
    "# 8. Declare a function named print_list. It takes a list as a parameter and it prints out each element of the list.\n",
    "my_list=['car','bus','nissan','lorry','van']\n",
    "def print_list(my_list):\n",
    "    return(my_list)\n",
    "vehicles=print_list(my_list)\n",
    "vehicles\n"
   ]
  }
 ],
 "metadata": {
  "kernelspec": {
   "display_name": "Python 3",
   "language": "python",
   "name": "python3"
  },
  "language_info": {
   "codemirror_mode": {
    "name": "ipython",
    "version": 3
   },
   "file_extension": ".py",
   "mimetype": "text/x-python",
   "name": "python",
   "nbconvert_exporter": "python",
   "pygments_lexer": "ipython3",
   "version": "3.13.2"
  }
 },
 "nbformat": 4,
 "nbformat_minor": 2
}
